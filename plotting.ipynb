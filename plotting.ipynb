{
 "cells": [
  {
   "cell_type": "markdown",
   "metadata": {},
   "source": [
    "# Introduction "
   ]
  },
  {
   "cell_type": "markdown",
   "metadata": {},
   "source": [
    "This notebook is aimed at helping people get up to speed in using plotting libraries in [Julia](http://julialang.org/).  It assumes a basic knowledge of Julia, but not how to use any of the plotting libraries.  \n",
    "\n",
    "There are several plotting libraries in Julia.  I like [Plots.jl](https://github.com/JuliaPlots/Plots.jl) because of the brilliant way it is structured and its growing ecosystem.  Kudos to Tom Breloff for all his work.  I will be focusing on using this library, although also will include others such as [Gadfly.jl](http://github.com/GiovineItalia/Gadfly.jl) which has a long history and is integrated into many Julia pacakages."
   ]
  },
  {
   "cell_type": "markdown",
   "metadata": {},
   "source": [
    "# Plots.jl"
   ]
  },
  {
   "cell_type": "code",
   "execution_count": 3,
   "metadata": {
    "collapsed": false
   },
   "outputs": [
    {
     "name": "stderr",
     "output_type": "stream",
     "text": [
      "\u001b[1m\u001b[34mINFO: Nothing to be done\n",
      "\u001b[0m\u001b[1m\u001b[34mINFO: METADATA is out-of-date — you may not have the latest version of Plots\n",
      "\u001b[0m\u001b[1m\u001b[34mINFO: Use `Pkg.update()` to get the latest versions of your packages\n",
      "\u001b[0m"
     ]
    }
   ],
   "source": [
    "Pkg.add(\"Plots\")"
   ]
  },
  {
   "cell_type": "code",
   "execution_count": 4,
   "metadata": {
    "collapsed": false
   },
   "outputs": [
    {
     "name": "stderr",
     "output_type": "stream",
     "text": [
      "\u001b[1m\u001b[34mINFO: Updating METADATA...\n",
      "\u001b[0m\u001b[1m\u001b[34mINFO: Updating cache of IntervalSets...\n",
      "\u001b[0m\u001b[1m\u001b[34mINFO: Updating cache of FFTViews...\n",
      "\u001b[0m\u001b[1m\u001b[34mINFO: Updating cache of RangeArrays...\n",
      "\u001b[0m\u001b[1m\u001b[34mINFO: Updating cache of BinDeps...\n",
      "\u001b[0m\u001b[1m\u001b[34mINFO: Updating cache of Graphics...\n",
      "\u001b[0m\u001b[1m\u001b[34mINFO: Updating cache of MacroTools...\n",
      "\u001b[0m\u001b[1m\u001b[34mINFO: Updating cache of CustomUnitRanges...\n",
      "\u001b[0m\u001b[1m\u001b[34mINFO: Updating cache of Distributions...\n",
      "\u001b[0m\u001b[1m\u001b[34mINFO: Updating cache of CatIndices...\n",
      "\u001b[0m\u001b[1m\u001b[34mINFO: Updating cache of SimpleTraits...\n",
      "\u001b[0m\u001b[1m\u001b[34mINFO: Updating cache of ComputationalResources...\n",
      "\u001b[0m\u001b[1m\u001b[34mINFO: Updating cache of ColorVectorSpace...\n",
      "\u001b[0m\u001b[1m\u001b[34mINFO: Updating cache of Compat...\n",
      "\u001b[0m\u001b[1m\u001b[34mINFO: Updating cache of Iterators...\n",
      "\u001b[0m\u001b[1m\u001b[34mINFO: Updating cache of Codecs...\n",
      "\u001b[0m\u001b[1m\u001b[34mINFO: Updating cache of OffsetArrays...\n",
      "\u001b[0m\u001b[1m\u001b[34mINFO: Updating cache of Distances...\n",
      "\u001b[0m\u001b[1m\u001b[34mINFO: Updating cache of NearestNeighbors...\n",
      "\u001b[0m\u001b[1m\u001b[34mINFO: Updating cache of DataStructures...\n",
      "\u001b[0m\u001b[1m\u001b[34mINFO: Updating cache of Optim...\n",
      "\u001b[0m\u001b[1m\u001b[34mINFO: Updating cache of Nettle...\n",
      "\u001b[0m\u001b[1m\u001b[34mINFO: Updating cache of AxisArrays...\n",
      "\u001b[0m\u001b[1m\u001b[34mINFO: Updating MXNet master... 75060bc0 → 17a54420\n",
      "\u001b[0m\u001b[1m\u001b[34mINFO: Computing changes...\n",
      "\u001b[0m\u001b[1m\u001b[34mINFO: Cloning cache of ImageAxes from https://github.com/JuliaImages/ImageAxes.jl.git\n",
      "\u001b[0m\u001b[1m\u001b[34mINFO: Cloning cache of ImageCore from https://github.com/JuliaImages/ImageCore.jl.git\n",
      "\u001b[0m\u001b[1m\u001b[34mINFO: Cloning cache of ImageFiltering from https://github.com/JuliaImages/ImageFiltering.jl.git\n",
      "\u001b[0m\u001b[1m\u001b[34mINFO: Cloning cache of ImageMetadata from https://github.com/JuliaImages/ImageMetadata.jl.git\n",
      "\u001b[0m\u001b[1m\u001b[34mINFO: Updating cache of IndirectArrays...\n",
      "\u001b[0m\u001b[1m\u001b[34mINFO: Cloning cache of MappedArrays from https://github.com/JuliaArrays/MappedArrays.jl.git\n",
      "\u001b[0m\u001b[1m\u001b[34mINFO: Cloning cache of ShowItLikeYouBuildIt from https://github.com/JuliaArrays/ShowItLikeYouBuildIt.jl.git\n",
      "\u001b[0m\u001b[1m\u001b[34mINFO: Updating cache of StaticArrays...\n",
      "\u001b[0m\u001b[1m\u001b[34mINFO: Cloning cache of TiledIteration from https://github.com/JuliaArrays/TiledIteration.jl.git\n",
      "\u001b[0m\u001b[1m\u001b[34mINFO: Upgrading AxisArrays: v0.0.3 => v0.0.4\n",
      "\u001b[0m\u001b[1m\u001b[34mINFO: Upgrading BinDeps: v0.4.5 => v0.4.7\n",
      "\u001b[0m\u001b[1m\u001b[34mINFO: Upgrading CatIndices: v0.0.1 => v0.0.2\n",
      "\u001b[0m\u001b[1m\u001b[34mINFO: Upgrading Codecs: v0.2.0 => v0.3.0\n",
      "\u001b[0m\u001b[1m\u001b[34mINFO: Upgrading ColorTypes: v0.2.12 => v0.3.4\n",
      "\u001b[0m\u001b[1m\u001b[34mINFO: Upgrading ColorVectorSpace: v0.1.12 => v0.4.0\n",
      "\u001b[0m\u001b[1m\u001b[34mINFO: Upgrading Colors: v0.6.9 => v0.7.3\n",
      "\u001b[0m\u001b[1m\u001b[34mINFO: Upgrading Compat: v0.18.0 => v0.19.0\n",
      "\u001b[0m\u001b[1m\u001b[34mINFO: Upgrading ComputationalResources: v0.0.1 => v0.0.2\n",
      "\u001b[0m\u001b[1m\u001b[34mINFO: Upgrading CustomUnitRanges: v0.0.3 => v0.0.4\n",
      "\u001b[0m\u001b[1m\u001b[34mINFO: Upgrading DataStructures: v0.5.2 => v0.5.3\n",
      "\u001b[0m\u001b[1m\u001b[34mINFO: Upgrading Distances: v0.4.0 => v0.4.1\n",
      "\u001b[0m\u001b[1m\u001b[34mINFO: Upgrading Distributions: v0.12.0 => v0.12.1\n",
      "\u001b[0m\u001b[1m\u001b[34mINFO: Upgrading FFTViews: v0.0.1 => v0.0.2\n",
      "\u001b[0m\u001b[1m\u001b[34mINFO: Upgrading FixedPointNumbers: v0.2.1 => v0.3.4\n",
      "\u001b[0m\u001b[1m\u001b[34mINFO: Upgrading Graphics: v0.1.3 => v0.1.4\n",
      "\u001b[0m\u001b[1m\u001b[34mINFO: Installing ImageAxes v0.1.1\n",
      "\u001b[0m\u001b[1m\u001b[34mINFO: Installing ImageCore v0.1.4\n",
      "\u001b[0m\u001b[1m\u001b[34mINFO: Installing ImageFiltering v0.1.2\n",
      "\u001b[0m\u001b[1m\u001b[34mINFO: Installing ImageMetadata v0.2.1\n",
      "\u001b[0m\u001b[1m\u001b[34mINFO: Upgrading Images: v0.5.14 => v0.7.0\n",
      "\u001b[0m\u001b[1m\u001b[34mINFO: Installing IndirectArrays v0.1.1\n",
      "\u001b[0m\u001b[1m\u001b[34mINFO: Upgrading IntervalSets: v0.0.2 => v0.0.3\n",
      "\u001b[0m\u001b[1m\u001b[34mINFO: Upgrading Iterators: v0.2.0 => v0.3.0\n",
      "\u001b[0m\u001b[1m\u001b[34mINFO: Upgrading MacroTools: v0.3.4 => v0.3.6\n",
      "\u001b[0m\u001b[1m\u001b[34mINFO: Installing MappedArrays v0.0.6\n",
      "\u001b[0m\u001b[1m\u001b[34mINFO: Upgrading NearestNeighbors: v0.0.5 => v0.2.0\n",
      "\u001b[0m\u001b[1m\u001b[34mINFO: Upgrading Nettle: v0.2.4 => v0.3.0\n",
      "\u001b[0m\u001b[1m\u001b[34mINFO: Upgrading OffsetArrays: v0.2.13 => v0.2.14\n",
      "\u001b[0m\u001b[1m\u001b[34mINFO: Upgrading Optim: v0.7.5 => v0.7.7\n",
      "\u001b[0m\u001b[1m\u001b[34mINFO: Upgrading RangeArrays: v0.1.1 => v0.1.2\n",
      "\u001b[0m\u001b[1m\u001b[34mINFO: Installing ShowItLikeYouBuildIt v0.0.1\n",
      "\u001b[0m\u001b[1m\u001b[34mINFO: Upgrading SimpleTraits: v0.2.0 => v0.3.0\n",
      "\u001b[0m\u001b[1m\u001b[34mINFO: Upgrading SpecialFunctions: v0.1.0 => v0.1.1\n",
      "\u001b[0m\u001b[1m\u001b[34mINFO: Installing StaticArrays v0.3.0\n",
      "\u001b[0m\u001b[1m\u001b[34mINFO: Installing TiledIteration v0.0.2\n",
      "\u001b[0m\u001b[1m\u001b[34mINFO: Removing Zlib v0.1.12\n",
      "\u001b[0m\u001b[1m\u001b[34mINFO: Building Rmath\n",
      "\u001b[0m\u001b[1m\u001b[34mINFO: Building Nettle\n",
      "\u001b[0m"
     ]
    }
   ],
   "source": [
    "Pkg.update()"
   ]
  },
  {
   "cell_type": "code",
   "execution_count": 5,
   "metadata": {
    "collapsed": false
   },
   "outputs": [
    {
     "name": "stderr",
     "output_type": "stream",
     "text": [
      "\u001b[1m\u001b[34mINFO: Recompiling stale cache file /home/milton/.julia/lib/v0.5/Colors.ji for module Colors.\n",
      "\u001b[0m\u001b[1m\u001b[31mWARNING: Module Compat with uuid 236172533085870 is missing from the cache.\n",
      "This may mean module Compat does not support precompilation but is imported by a module that does.\u001b[0m\n",
      "\u001b[1m\u001b[31mERROR: LoadError: Declaring __precompile__(false) is not allowed in files that are being precompiled.\n",
      " in require(::Symbol) at ./loading.jl:385\n",
      " in include_from_node1(::String) at ./loading.jl:488\n",
      " in macro expansion; at ./none:2 [inlined]\n",
      " in anonymous at ./<missing>:?\n",
      " in eval(::Module, ::Any) at ./boot.jl:234\n",
      " in process_options(::Base.JLOptions) at ./client.jl:239\n",
      " in _start() at ./client.jl:318\n",
      "while loading /home/milton/.julia/v0.5/FixedPointNumbers/src/FixedPointNumbers.jl, in expression starting on line 19\n",
      "\u001b[0m\u001b[1m\u001b[31mERROR: LoadError: Failed to precompile FixedPointNumbers to /home/milton/.julia/lib/v0.5/FixedPointNumbers.ji.\n",
      " in compilecache(::String) at ./loading.jl:593\n",
      " in require(::Symbol) at ./loading.jl:393\n",
      " in include_from_node1(::String) at ./loading.jl:488\n",
      " in macro expansion; at ./none:2 [inlined]\n",
      " in anonymous at ./<missing>:?\n",
      " in eval(::Module, ::Any) at ./boot.jl:234\n",
      " in process_options(::Base.JLOptions) at ./client.jl:239\n",
      " in _start() at ./client.jl:318\n",
      "while loading /home/milton/.julia/v0.5/Colors/src/Colors.jl, in expression starting on line 5\n",
      "\u001b[0m"
     ]
    },
    {
     "ename": "LoadError",
     "evalue": "LoadError: Failed to precompile Colors to /home/milton/.julia/lib/v0.5/Colors.ji.\nwhile loading /home/milton/.julia/v0.5/Plots/src/Plots.jl, in expression starting on line 9",
     "output_type": "error",
     "traceback": [
      "LoadError: Failed to precompile Colors to /home/milton/.julia/lib/v0.5/Colors.ji.\nwhile loading /home/milton/.julia/v0.5/Plots/src/Plots.jl, in expression starting on line 9",
      "",
      " in compilecache(::String) at ./loading.jl:593",
      " in require(::Symbol) at ./loading.jl:393",
      " in _include_from_serialized(::String) at ./loading.jl:150",
      " in _require_from_serialized(::Int64, ::Symbol, ::String, ::Bool) at ./loading.jl:187",
      " in _require_search_from_serialized(::Int64, ::Symbol, ::String, ::Bool) at ./loading.jl:217",
      " in require(::Symbol) at ./loading.jl:371",
      " in include_from_node1(::String) at ./loading.jl:488",
      " in eval(::Module, ::Any) at ./boot.jl:234",
      " in require(::Symbol) at ./loading.jl:415"
     ]
    }
   ],
   "source": [
    "using Plots"
   ]
  },
  {
   "cell_type": "code",
   "execution_count": 6,
   "metadata": {
    "collapsed": false
   },
   "outputs": [
    {
     "ename": "LoadError",
     "evalue": "UndefVarError: plotly not defined",
     "output_type": "error",
     "traceback": [
      "UndefVarError: plotly not defined",
      ""
     ]
    }
   ],
   "source": [
    "plotly()"
   ]
  },
  {
   "cell_type": "code",
   "execution_count": null,
   "metadata": {
    "collapsed": true
   },
   "outputs": [],
   "source": []
  }
 ],
 "metadata": {
  "kernelspec": {
   "display_name": "Julia 0.5.1-pre",
   "language": "julia",
   "name": "julia-0.5"
  },
  "language_info": {
   "file_extension": ".jl",
   "mimetype": "application/julia",
   "name": "julia",
   "version": "0.5.1"
  },
  "toc": {
   "nav_menu": {
    "height": "30px",
    "width": "252px"
   },
   "navigate_menu": true,
   "number_sections": true,
   "sideBar": true,
   "threshold": 4,
   "toc_cell": false,
   "toc_section_display": "block",
   "toc_window_display": false
  }
 },
 "nbformat": 4,
 "nbformat_minor": 1
}
